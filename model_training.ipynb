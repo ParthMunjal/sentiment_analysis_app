{
 "cells": [
  {
   "cell_type": "markdown",
   "metadata": {},
   "source": [
    "# Twitter sentiment analysis for English premier league football clubs"
   ]
  },
  {
   "cell_type": "markdown",
   "metadata": {},
   "source": [
    "#### Our goal is to prepare a machine learning model which can analyze tweets related to football teams and predict sentiment for each tweet. This can be used to find out the most hated/ loved football clubs on social media platforms and give us an insight about the club's public image. "
   ]
  },
  {
   "cell_type": "markdown",
   "metadata": {},
   "source": [
    "### Importing required libraries"
   ]
  },
  {
   "cell_type": "code",
   "execution_count": 2,
   "metadata": {},
   "outputs": [],
   "source": [
    "import pandas as pd\n",
    "import numpy as np\n",
    "import seaborn as sns\n",
    "import matplotlib.pyplot as plt"
   ]
  },
  {
   "cell_type": "markdown",
   "metadata": {},
   "source": [
    "### Importing the EPL tweets dataset "
   ]
  },
  {
   "cell_type": "markdown",
   "metadata": {},
   "source": [
    "The dataset consists of tweets about the teams competing in the english premier league."
   ]
  },
  {
   "cell_type": "code",
   "execution_count": 3,
   "metadata": {},
   "outputs": [],
   "source": [
    "epl_data = pd.read_csv(\"C:\\\\Users\\\\pmunj\\\\Desktop\\\\epl_nlp_project\\\\tweets.csv\")"
   ]
  },
  {
   "cell_type": "code",
   "execution_count": 4,
   "metadata": {},
   "outputs": [
    {
     "data": {
      "text/html": [
       "<div>\n",
       "<style scoped>\n",
       "    .dataframe tbody tr th:only-of-type {\n",
       "        vertical-align: middle;\n",
       "    }\n",
       "\n",
       "    .dataframe tbody tr th {\n",
       "        vertical-align: top;\n",
       "    }\n",
       "\n",
       "    .dataframe thead th {\n",
       "        text-align: right;\n",
       "    }\n",
       "</style>\n",
       "<table border=\"1\" class=\"dataframe\">\n",
       "  <thead>\n",
       "    <tr style=\"text-align: right;\">\n",
       "      <th></th>\n",
       "      <th>created_at</th>\n",
       "      <th>file_name</th>\n",
       "      <th>followers</th>\n",
       "      <th>friends</th>\n",
       "      <th>group_name</th>\n",
       "      <th>location</th>\n",
       "      <th>retweet_count</th>\n",
       "      <th>screenname</th>\n",
       "      <th>search_query</th>\n",
       "      <th>text</th>\n",
       "      <th>twitter_id</th>\n",
       "      <th>username</th>\n",
       "      <th>polarity</th>\n",
       "      <th>partition_0</th>\n",
       "      <th>partition_1</th>\n",
       "    </tr>\n",
       "  </thead>\n",
       "  <tbody>\n",
       "    <tr>\n",
       "      <th>0</th>\n",
       "      <td>2020-09-23 18:39:34</td>\n",
       "      <td>CrystalPalace</td>\n",
       "      <td>66</td>\n",
       "      <td>495</td>\n",
       "      <td>Crystal Palace FC</td>\n",
       "      <td>NaN</td>\n",
       "      <td>0</td>\n",
       "      <td>tw_footballtalk</td>\n",
       "      <td>#CrystalPalace OR #CPFC</td>\n",
       "      <td>Onto Week 2 of Premier League Stars of the Wee...</td>\n",
       "      <td>1308838436233711616</td>\n",
       "      <td>TW</td>\n",
       "      <td>0.0000</td>\n",
       "      <td>EPL</td>\n",
       "      <td>CrystalPalace</td>\n",
       "    </tr>\n",
       "    <tr>\n",
       "      <th>1</th>\n",
       "      <td>2020-09-23 18:39:18</td>\n",
       "      <td>CrystalPalace</td>\n",
       "      <td>0</td>\n",
       "      <td>0</td>\n",
       "      <td>Crystal Palace FC</td>\n",
       "      <td>NaN</td>\n",
       "      <td>0</td>\n",
       "      <td>crystalpalaced1</td>\n",
       "      <td>#CrystalPalace OR #CPFC</td>\n",
       "      <td>Our palace team will put our hearts out for ou...</td>\n",
       "      <td>1308838367254269954</td>\n",
       "      <td>crystalpalacedan</td>\n",
       "      <td>0.1531</td>\n",
       "      <td>EPL</td>\n",
       "      <td>CrystalPalace</td>\n",
       "    </tr>\n",
       "    <tr>\n",
       "      <th>2</th>\n",
       "      <td>2020-09-23 18:28:15</td>\n",
       "      <td>CrystalPalace</td>\n",
       "      <td>4292</td>\n",
       "      <td>3437</td>\n",
       "      <td>Crystal Palace FC</td>\n",
       "      <td>London</td>\n",
       "      <td>0</td>\n",
       "      <td>palaceupdates4u</td>\n",
       "      <td>#CrystalPalace OR #CPFC</td>\n",
       "      <td>Chelsea v Palace kick-off time changed and TV ...</td>\n",
       "      <td>1308835588229996545</td>\n",
       "      <td>Crystal Palace News</td>\n",
       "      <td>0.0000</td>\n",
       "      <td>EPL</td>\n",
       "      <td>CrystalPalace</td>\n",
       "    </tr>\n",
       "    <tr>\n",
       "      <th>3</th>\n",
       "      <td>2020-09-23 18:28:15</td>\n",
       "      <td>CrystalPalace</td>\n",
       "      <td>4292</td>\n",
       "      <td>3437</td>\n",
       "      <td>Crystal Palace FC</td>\n",
       "      <td>London</td>\n",
       "      <td>0</td>\n",
       "      <td>palaceupdates4u</td>\n",
       "      <td>#CrystalPalace OR #CPFC</td>\n",
       "      <td>Academy redevelopment update: Exclusive footag...</td>\n",
       "      <td>1308835585902116867</td>\n",
       "      <td>Crystal Palace News</td>\n",
       "      <td>0.1280</td>\n",
       "      <td>EPL</td>\n",
       "      <td>CrystalPalace</td>\n",
       "    </tr>\n",
       "    <tr>\n",
       "      <th>4</th>\n",
       "      <td>2020-09-23 18:27:39</td>\n",
       "      <td>CrystalPalace</td>\n",
       "      <td>0</td>\n",
       "      <td>0</td>\n",
       "      <td>Crystal Palace FC</td>\n",
       "      <td>NaN</td>\n",
       "      <td>0</td>\n",
       "      <td>crystalpalaced1</td>\n",
       "      <td>#CrystalPalace OR #CPFC</td>\n",
       "      <td>@ChelseaFC I still have no entire clue why us ...</td>\n",
       "      <td>1308835436652105728</td>\n",
       "      <td>crystalpalacedan</td>\n",
       "      <td>-0.1027</td>\n",
       "      <td>EPL</td>\n",
       "      <td>CrystalPalace</td>\n",
       "    </tr>\n",
       "  </tbody>\n",
       "</table>\n",
       "</div>"
      ],
      "text/plain": [
       "            created_at      file_name  followers  friends         group_name  \\\n",
       "0  2020-09-23 18:39:34  CrystalPalace         66      495  Crystal Palace FC   \n",
       "1  2020-09-23 18:39:18  CrystalPalace          0        0  Crystal Palace FC   \n",
       "2  2020-09-23 18:28:15  CrystalPalace       4292     3437  Crystal Palace FC   \n",
       "3  2020-09-23 18:28:15  CrystalPalace       4292     3437  Crystal Palace FC   \n",
       "4  2020-09-23 18:27:39  CrystalPalace          0        0  Crystal Palace FC   \n",
       "\n",
       "  location  retweet_count       screenname             search_query  \\\n",
       "0      NaN              0  tw_footballtalk  #CrystalPalace OR #CPFC   \n",
       "1      NaN              0  crystalpalaced1  #CrystalPalace OR #CPFC   \n",
       "2   London              0  palaceupdates4u  #CrystalPalace OR #CPFC   \n",
       "3   London              0  palaceupdates4u  #CrystalPalace OR #CPFC   \n",
       "4      NaN              0  crystalpalaced1  #CrystalPalace OR #CPFC   \n",
       "\n",
       "                                                text           twitter_id  \\\n",
       "0  Onto Week 2 of Premier League Stars of the Wee...  1308838436233711616   \n",
       "1  Our palace team will put our hearts out for ou...  1308838367254269954   \n",
       "2  Chelsea v Palace kick-off time changed and TV ...  1308835588229996545   \n",
       "3  Academy redevelopment update: Exclusive footag...  1308835585902116867   \n",
       "4  @ChelseaFC I still have no entire clue why us ...  1308835436652105728   \n",
       "\n",
       "              username  polarity partition_0    partition_1  \n",
       "0                   TW    0.0000         EPL  CrystalPalace  \n",
       "1     crystalpalacedan    0.1531         EPL  CrystalPalace  \n",
       "2  Crystal Palace News    0.0000         EPL  CrystalPalace  \n",
       "3  Crystal Palace News    0.1280         EPL  CrystalPalace  \n",
       "4     crystalpalacedan   -0.1027         EPL  CrystalPalace  "
      ]
     },
     "execution_count": 4,
     "metadata": {},
     "output_type": "execute_result"
    }
   ],
   "source": [
    "epl_data.head()"
   ]
  },
  {
   "cell_type": "code",
   "execution_count": 5,
   "metadata": {},
   "outputs": [
    {
     "name": "stdout",
     "output_type": "stream",
     "text": [
      "<class 'pandas.core.frame.DataFrame'>\n",
      "RangeIndex: 211342 entries, 0 to 211341\n",
      "Data columns (total 15 columns):\n",
      " #   Column         Non-Null Count   Dtype  \n",
      "---  ------         --------------   -----  \n",
      " 0   created_at     211342 non-null  object \n",
      " 1   file_name      211342 non-null  object \n",
      " 2   followers      211342 non-null  int64  \n",
      " 3   friends        211342 non-null  int64  \n",
      " 4   group_name     211342 non-null  object \n",
      " 5   location       149105 non-null  object \n",
      " 6   retweet_count  211342 non-null  int64  \n",
      " 7   screenname     211342 non-null  object \n",
      " 8   search_query   211342 non-null  object \n",
      " 9   text           211342 non-null  object \n",
      " 10  twitter_id     211342 non-null  int64  \n",
      " 11  username       211341 non-null  object \n",
      " 12  polarity       211342 non-null  float64\n",
      " 13  partition_0    211342 non-null  object \n",
      " 14  partition_1    211342 non-null  object \n",
      "dtypes: float64(1), int64(4), object(10)\n",
      "memory usage: 24.2+ MB\n"
     ]
    }
   ],
   "source": [
    "epl_data.info()"
   ]
  },
  {
   "cell_type": "code",
   "execution_count": 6,
   "metadata": {},
   "outputs": [
    {
     "data": {
      "text/plain": [
       "#ManchesterUnited OR #ManUnited OR #MUFC    40307\n",
       "#liverpoolfc OR #YNWA OR #LFC               38250\n",
       "#Arsenal OR #AFC OR #COYG                   34653\n",
       "#Tottenham OR #THFC OR #SPURS               24417\n",
       "#Everton OR #EFC                            21147\n",
       "#ManchesterCity OR #ManCity OR #MCFC        19192\n",
       "#LeicesterCity OR #LCFC                     10307\n",
       "#CrystalPalace OR #CPFC                      7986\n",
       "#Chelsea OR #ChelseaFC #CFC                  7088\n",
       "#SouthamptonFC OR #Southampton               3699\n",
       "#Burnley OR #BurnleyFC                       2444\n",
       "#Bournemouth                                 1852\n",
       "Name: search_query, dtype: int64"
      ]
     },
     "execution_count": 6,
     "metadata": {},
     "output_type": "execute_result"
    }
   ],
   "source": [
    "epl_data['search_query'].value_counts()"
   ]
  },
  {
   "cell_type": "markdown",
   "metadata": {},
   "source": [
    "#### Note: Here we can see each tweet is extracted by using the hashtags mentioned above, so we can expect to have atleast one of these hashtags in every tweet present in the dataset. These words/ hashtags do not contribute to the sentiment displayed by the tweet and might affect our algorithm later beacuse they are present in a large number."
   ]
  },
  {
   "cell_type": "markdown",
   "metadata": {},
   "source": [
    "So with some knowledge of football and the above data, we will be preparing a list of words that contains the above hashtags, team names and some other terms by which these teams are referred to. For example: people use words like 'United','ManUtd', 'MUFC' when they are referring to Manchester United.    "
   ]
  },
  {
   "cell_type": "code",
   "execution_count": 7,
   "metadata": {},
   "outputs": [],
   "source": [
    "words_remove = ['ManchesterUnited', 'ManUnited', 'MUFC','mufc', 'manchester', 'liverpoolfc', 'liverpool', 'LFC', 'YNWA',\n",
    "               'ynwa', 'lfc', 'Liverpool', 'Arsenal', 'AFC','COYG', 'arsenal','afc','Tottenham', 'tottenham', 'THFC', 'thfc','spurs',\n",
    "               'SPURS','Everton','everton', 'EFC', 'ManchesterCity', 'manchestercity', 'city', 'Mancity', 'mancity', 'MCFC', 'mcfc',\n",
    "               'LeicesterCity', 'leicestercity', 'leicester', 'LCFC', 'lcfc', 'CrystalPalace', 'crystalpalace', 'palace', 'CPFC', 'cpfc'\n",
    "               , 'Chelsea', 'chelsea', 'ChelseaFC', 'CFC', 'cfc', 'SouthamptonFC', 'southampton', 'Southampton', 'Burnley', 'BurnleyFC',\n",
    "               'burnley','Bournemouth', 'bournemouth', 'United', 'united']"
   ]
  },
  {
   "cell_type": "markdown",
   "metadata": {},
   "source": [
    "These words will be later on removed from the tweets while preprocessing the tweets"
   ]
  },
  {
   "cell_type": "markdown",
   "metadata": {},
   "source": [
    "###### For performing sentiment analysis we require the text and the polarity column of the dataset. So we'll extract that out as our main dataset"
   ]
  },
  {
   "cell_type": "markdown",
   "metadata": {},
   "source": [
    "### Data preprocessing and exploratory data analysis "
   ]
  },
  {
   "cell_type": "code",
   "execution_count": 8,
   "metadata": {},
   "outputs": [
    {
     "data": {
      "text/html": [
       "<div>\n",
       "<style scoped>\n",
       "    .dataframe tbody tr th:only-of-type {\n",
       "        vertical-align: middle;\n",
       "    }\n",
       "\n",
       "    .dataframe tbody tr th {\n",
       "        vertical-align: top;\n",
       "    }\n",
       "\n",
       "    .dataframe thead th {\n",
       "        text-align: right;\n",
       "    }\n",
       "</style>\n",
       "<table border=\"1\" class=\"dataframe\">\n",
       "  <thead>\n",
       "    <tr style=\"text-align: right;\">\n",
       "      <th></th>\n",
       "      <th>text</th>\n",
       "      <th>polarity</th>\n",
       "    </tr>\n",
       "  </thead>\n",
       "  <tbody>\n",
       "    <tr>\n",
       "      <th>0</th>\n",
       "      <td>Onto Week 2 of Premier League Stars of the Wee...</td>\n",
       "      <td>0.0000</td>\n",
       "    </tr>\n",
       "    <tr>\n",
       "      <th>1</th>\n",
       "      <td>Our palace team will put our hearts out for ou...</td>\n",
       "      <td>0.1531</td>\n",
       "    </tr>\n",
       "    <tr>\n",
       "      <th>2</th>\n",
       "      <td>Chelsea v Palace kick-off time changed and TV ...</td>\n",
       "      <td>0.0000</td>\n",
       "    </tr>\n",
       "    <tr>\n",
       "      <th>3</th>\n",
       "      <td>Academy redevelopment update: Exclusive footag...</td>\n",
       "      <td>0.1280</td>\n",
       "    </tr>\n",
       "    <tr>\n",
       "      <th>4</th>\n",
       "      <td>@ChelseaFC I still have no entire clue why us ...</td>\n",
       "      <td>-0.1027</td>\n",
       "    </tr>\n",
       "  </tbody>\n",
       "</table>\n",
       "</div>"
      ],
      "text/plain": [
       "                                                text  polarity\n",
       "0  Onto Week 2 of Premier League Stars of the Wee...    0.0000\n",
       "1  Our palace team will put our hearts out for ou...    0.1531\n",
       "2  Chelsea v Palace kick-off time changed and TV ...    0.0000\n",
       "3  Academy redevelopment update: Exclusive footag...    0.1280\n",
       "4  @ChelseaFC I still have no entire clue why us ...   -0.1027"
      ]
     },
     "execution_count": 8,
     "metadata": {},
     "output_type": "execute_result"
    }
   ],
   "source": [
    "epl_data = epl_data[[\"text\", \"polarity\"]]\n",
    "epl_data.head()"
   ]
  },
  {
   "cell_type": "code",
   "execution_count": 9,
   "metadata": {},
   "outputs": [
    {
     "name": "stdout",
     "output_type": "stream",
     "text": [
      "<class 'pandas.core.frame.DataFrame'>\n",
      "RangeIndex: 211342 entries, 0 to 211341\n",
      "Data columns (total 2 columns):\n",
      " #   Column    Non-Null Count   Dtype  \n",
      "---  ------    --------------   -----  \n",
      " 0   text      211342 non-null  object \n",
      " 1   polarity  211342 non-null  float64\n",
      "dtypes: float64(1), object(1)\n",
      "memory usage: 3.2+ MB\n"
     ]
    }
   ],
   "source": [
    "epl_data.info()"
   ]
  },
  {
   "cell_type": "markdown",
   "metadata": {},
   "source": [
    "We fortunately don't have any missing values in our new dataset and the columns have appropriate data types too "
   ]
  },
  {
   "cell_type": "markdown",
   "metadata": {},
   "source": [
    "Plotting the distribution of values in the polarity column of the dataset"
   ]
  },
  {
   "cell_type": "code",
   "execution_count": 10,
   "metadata": {},
   "outputs": [
    {
     "data": {
      "text/plain": [
       "<seaborn.axisgrid.FacetGrid at 0x2058f892808>"
      ]
     },
     "execution_count": 10,
     "metadata": {},
     "output_type": "execute_result"
    },
    {
     "data": {
      "image/png": "[encoded data removed]",
      "text/plain": [
       "<Figure size 360x360 with 1 Axes>"
      ]
     },
     "metadata": {
      "needs_background": "light"
     },
     "output_type": "display_data"
    }
   ],
   "source": [
    "sns.displot(data = epl_data, x = \"polarity\")"
   ]
  },
  {
   "cell_type": "code",
   "execution_count": 11,
   "metadata": {},
   "outputs": [
    {
     "name": "stdout",
     "output_type": "stream",
     "text": [
      "maximum and minimum values: 0.9927 -0.9848\n"
     ]
    }
   ],
   "source": [
    "print(\"maximum and minimum values:\",epl_data['polarity'].max(), epl_data['polarity'].min())"
   ]
  },
  {
   "cell_type": "markdown",
   "metadata": {},
   "source": [
    "###### The problem here is that the polarity of tweets is a continuous variable ranging from approximately -1 to +1. For sentiment analysis, we'd prefer to have discrete values for certain sentiments,  say 1 = negative ; 2 = neutral; 3 = positive. "
   ]
  },
  {
   "cell_type": "markdown",
   "metadata": {},
   "source": [
    "We'll have to perform binning on the continuous variable to group the values and tweets into seperate sentiment classes"
   ]
  },
  {
   "cell_type": "code",
   "execution_count": 12,
   "metadata": {},
   "outputs": [
    {
     "name": "stdout",
     "output_type": "stream",
     "text": [
      "[-0.9848, -0.32563333333333333, 0.33353333333333335, 0.9927]\n"
     ]
    }
   ],
   "source": [
    "bins = np.linspace(min(epl_data['polarity']), max(epl_data['polarity']), 4)\n",
    "print(list(bins))"
   ]
  },
  {
   "cell_type": "code",
   "execution_count": 13,
   "metadata": {},
   "outputs": [],
   "source": [
    "group_names = ['1','2','3']\n",
    "epl_data['sentiment'] = pd.cut(epl_data['polarity'], bins, labels = group_names, include_lowest = True)"
   ]
  },
  {
   "cell_type": "code",
   "execution_count": 14,
   "metadata": {},
   "outputs": [
    {
     "data": {
      "text/html": [
       "<div>\n",
       "<style scoped>\n",
       "    .dataframe tbody tr th:only-of-type {\n",
       "        vertical-align: middle;\n",
       "    }\n",
       "\n",
       "    .dataframe tbody tr th {\n",
       "        vertical-align: top;\n",
       "    }\n",
       "\n",
       "    .dataframe thead th {\n",
       "        text-align: right;\n",
       "    }\n",
       "</style>\n",
       "<table border=\"1\" class=\"dataframe\">\n",
       "  <thead>\n",
       "    <tr style=\"text-align: right;\">\n",
       "      <th></th>\n",
       "      <th>text</th>\n",
       "      <th>polarity</th>\n",
       "      <th>sentiment</th>\n",
       "    </tr>\n",
       "  </thead>\n",
       "  <tbody>\n",
       "    <tr>\n",
       "      <th>0</th>\n",
       "      <td>Onto Week 2 of Premier League Stars of the Wee...</td>\n",
       "      <td>0.0000</td>\n",
       "      <td>2</td>\n",
       "    </tr>\n",
       "    <tr>\n",
       "      <th>1</th>\n",
       "      <td>Our palace team will put our hearts out for ou...</td>\n",
       "      <td>0.1531</td>\n",
       "      <td>2</td>\n",
       "    </tr>\n",
       "    <tr>\n",
       "      <th>2</th>\n",
       "      <td>Chelsea v Palace kick-off time changed and TV ...</td>\n",
       "      <td>0.0000</td>\n",
       "      <td>2</td>\n",
       "    </tr>\n",
       "    <tr>\n",
       "      <th>3</th>\n",
       "      <td>Academy redevelopment update: Exclusive footag...</td>\n",
       "      <td>0.1280</td>\n",
       "      <td>2</td>\n",
       "    </tr>\n",
       "    <tr>\n",
       "      <th>4</th>\n",
       "      <td>@ChelseaFC I still have no entire clue why us ...</td>\n",
       "      <td>-0.1027</td>\n",
       "      <td>2</td>\n",
       "    </tr>\n",
       "    <tr>\n",
       "      <th>5</th>\n",
       "      <td>Pizza fight suggestions wrong, #CPFC wonderkid...</td>\n",
       "      <td>-0.6908</td>\n",
       "      <td>1</td>\n",
       "    </tr>\n",
       "    <tr>\n",
       "      <th>6</th>\n",
       "      <td>HE WORKS WHEN HE WANTS, HE WORKS WHEN HE WAAAA...</td>\n",
       "      <td>0.0000</td>\n",
       "      <td>2</td>\n",
       "    </tr>\n",
       "    <tr>\n",
       "      <th>7</th>\n",
       "      <td>It’s game week 🙌🏻 we play @RoversLadies Sunday...</td>\n",
       "      <td>0.3400</td>\n",
       "      <td>3</td>\n",
       "    </tr>\n",
       "    <tr>\n",
       "      <th>8</th>\n",
       "      <td>Come on down and snag this NEW #Verdant 🤤 ‘Unf...</td>\n",
       "      <td>0.0000</td>\n",
       "      <td>2</td>\n",
       "    </tr>\n",
       "    <tr>\n",
       "      <th>9</th>\n",
       "      <td>🥊 An inspirational journey from Palace fan, @R...</td>\n",
       "      <td>0.8271</td>\n",
       "      <td>3</td>\n",
       "    </tr>\n",
       "  </tbody>\n",
       "</table>\n",
       "</div>"
      ],
      "text/plain": [
       "                                                text  polarity sentiment\n",
       "0  Onto Week 2 of Premier League Stars of the Wee...    0.0000         2\n",
       "1  Our palace team will put our hearts out for ou...    0.1531         2\n",
       "2  Chelsea v Palace kick-off time changed and TV ...    0.0000         2\n",
       "3  Academy redevelopment update: Exclusive footag...    0.1280         2\n",
       "4  @ChelseaFC I still have no entire clue why us ...   -0.1027         2\n",
       "5  Pizza fight suggestions wrong, #CPFC wonderkid...   -0.6908         1\n",
       "6  HE WORKS WHEN HE WANTS, HE WORKS WHEN HE WAAAA...    0.0000         2\n",
       "7  It’s game week 🙌🏻 we play @RoversLadies Sunday...    0.3400         3\n",
       "8  Come on down and snag this NEW #Verdant 🤤 ‘Unf...    0.0000         2\n",
       "9  🥊 An inspirational journey from Palace fan, @R...    0.8271         3"
      ]
     },
     "execution_count": 14,
     "metadata": {},
     "output_type": "execute_result"
    }
   ],
   "source": [
    "epl_data.head(10)"
   ]
  },
  {
   "cell_type": "markdown",
   "metadata": {},
   "source": [
    "Now we have a discrete sentiment for each tweet. We can now plot the distribution of these sentiments to get a better feel of our dataset"
   ]
  },
  {
   "cell_type": "code",
   "execution_count": 15,
   "metadata": {},
   "outputs": [
    {
     "data": {
      "text/plain": [
       "<seaborn.axisgrid.FacetGrid at 0x205904b7a88>"
      ]
     },
     "execution_count": 15,
     "metadata": {},
     "output_type": "execute_result"
    },
    {
     "data": {
      "image/png": "[encoded data removed]",
      "text/plain": [
       "<Figure size 360x360 with 1 Axes>"
      ]
     },
     "metadata": {
      "needs_background": "light"
     },
     "output_type": "display_data"
    }
   ],
   "source": [
    "sns.displot(data= epl_data, x = 'sentiment', color = 'teal')"
   ]
  },
  {
   "cell_type": "markdown",
   "metadata": {},
   "source": [
    "###### It is quite clear now that neutral and positive tweets dominate the dataset. An unbalanced dataset can affect our real lfe predictions so our goal is now to  make this dataset balanced. "
   ]
  },
  {
   "cell_type": "markdown",
   "metadata": {},
   "source": [
    "To make this happen we can either add negative tweets to the dataset or we can remove neutral and positive tweets. I'll be removing neutral and positive tweets as the dataset is aready pretty large and even after removal of tweets I'll be left with plenty of data to work with. Also it's easier of the two options."
   ]
  },
  {
   "cell_type": "markdown",
   "metadata": {},
   "source": [
    "This method of balancing the dataset is called Undersampling"
   ]
  },
  {
   "cell_type": "markdown",
   "metadata": {},
   "source": [
    "### Random Under-sampling"
   ]
  },
  {
   "cell_type": "code",
   "execution_count": 17,
   "metadata": {},
   "outputs": [
    {
     "name": "stdout",
     "output_type": "stream",
     "text": [
      "class 1: (24729, 3)\n",
      "class 2: (97967, 3)\n",
      "class 3: (88646, 3)\n"
     ]
    }
   ],
   "source": [
    "class_1 = epl_data[epl_data['sentiment'] == '1']\n",
    "class_2 = epl_data[epl_data['sentiment'] == '2']\n",
    "class_3 = epl_data[epl_data['sentiment'] == '3']\n",
    "\n",
    "print('class 1:', class_1.shape)\n",
    "print('class 2:', class_2.shape)\n",
    "print('class 3:', class_3.shape)"
   ]
  },
  {
   "cell_type": "markdown",
   "metadata": {},
   "source": [
    "We'll try to take out random samples from the positive and neutral classes equal to the number of negative class"
   ]
  },
  {
   "cell_type": "code",
   "execution_count": 18,
   "metadata": {},
   "outputs": [
    {
     "data": {
      "text/plain": [
       "<matplotlib.axes._subplots.AxesSubplot at 0x205905b5688>"
      ]
     },
     "execution_count": 18,
     "metadata": {},
     "output_type": "execute_result"
    },
    {
     "data": {
      "image/png": "[encoded data removed]",
      "text/plain": [
       "<Figure size 432x288 with 1 Axes>"
      ]
     },
     "metadata": {
      "needs_background": "light"
     },
     "output_type": "display_data"
    }
   ],
   "source": [
    "class_2_under = class_2.sample(class_count1)\n",
    "class_3_under = class_3.sample(class_count1)\n",
    "test_under = pd.concat([class_1, class_2_under, class_3_under], axis = 0)\n",
    "\n",
    "test_under['sentiment'].value_counts().plot(kind = 'bar', title = 'undersampling count')"
   ]
  },
  {
   "cell_type": "code",
   "execution_count": 19,
   "metadata": {},
   "outputs": [
    {
     "data": {
      "text/plain": [
       "3    24729\n",
       "2    24729\n",
       "1    24729\n",
       "Name: sentiment, dtype: int64"
      ]
     },
     "execution_count": 19,
     "metadata": {},
     "output_type": "execute_result"
    }
   ],
   "source": [
    "test_under['sentiment'].value_counts()"
   ]
  },
  {
   "cell_type": "markdown",
   "metadata": {},
   "source": [
    "we don't require the continuous variable 'polarity' anymore"
   ]
  },
  {
   "cell_type": "code",
   "execution_count": 20,
   "metadata": {},
   "outputs": [],
   "source": [
    "test_under.drop(columns = ['polarity'], inplace = True)"
   ]
  },
  {
   "cell_type": "markdown",
   "metadata": {},
   "source": [
    "test_under is our undersampled dataset where all the sentiments have equal number of entries in the dataframe"
   ]
  },
  {
   "cell_type": "markdown",
   "metadata": {},
   "source": [
    "### Cleaning the texts for machine learning "
   ]
  },
  {
   "cell_type": "code",
   "execution_count": 23,
   "metadata": {},
   "outputs": [
    {
     "data": {
      "text/plain": [
       "(74187, 2)"
      ]
     },
     "execution_count": 23,
     "metadata": {},
     "output_type": "execute_result"
    }
   ],
   "source": [
    "test_under.shape"
   ]
  },
  {
   "cell_type": "code",
   "execution_count": 24,
   "metadata": {},
   "outputs": [
    {
     "name": "stderr",
     "output_type": "stream",
     "text": [
      "[nltk_data] Downloading package stopwords to\n",
      "[nltk_data]     C:\\Users\\pmunj\\AppData\\Roaming\\nltk_data...\n",
      "[nltk_data]   Package stopwords is already up-to-date!\n"
     ]
    }
   ],
   "source": [
    "import re\n",
    "import nltk \n",
    "nltk.download('stopwords')\n",
    "from nltk.corpus import stopwords\n",
    "from nltk.stem.porter import PorterStemmer"
   ]
  },
  {
   "cell_type": "code",
   "execution_count": 25,
   "metadata": {},
   "outputs": [
    {
     "data": {
      "text/html": [
       "<div>\n",
       "<style scoped>\n",
       "    .dataframe tbody tr th:only-of-type {\n",
       "        vertical-align: middle;\n",
       "    }\n",
       "\n",
       "    .dataframe tbody tr th {\n",
       "        vertical-align: top;\n",
       "    }\n",
       "\n",
       "    .dataframe thead th {\n",
       "        text-align: right;\n",
       "    }\n",
       "</style>\n",
       "<table border=\"1\" class=\"dataframe\">\n",
       "  <thead>\n",
       "    <tr style=\"text-align: right;\">\n",
       "      <th></th>\n",
       "      <th>text</th>\n",
       "      <th>sentiment</th>\n",
       "    </tr>\n",
       "  </thead>\n",
       "  <tbody>\n",
       "    <tr>\n",
       "      <th>0</th>\n",
       "      <td>Pizza fight suggestions wrong, #CPFC wonderkid...</td>\n",
       "      <td>1</td>\n",
       "    </tr>\n",
       "    <tr>\n",
       "      <th>1</th>\n",
       "      <td>Meyer on fire, Clyne trains with Palace &amp;amp; ...</td>\n",
       "      <td>1</td>\n",
       "    </tr>\n",
       "    <tr>\n",
       "      <th>2</th>\n",
       "      <td>While I know this is a football account, I wan...</td>\n",
       "      <td>1</td>\n",
       "    </tr>\n",
       "    <tr>\n",
       "      <th>3</th>\n",
       "      <td>@Carl_Unofficial why has it gone so dead on th...</td>\n",
       "      <td>1</td>\n",
       "    </tr>\n",
       "    <tr>\n",
       "      <th>4</th>\n",
       "      <td>Musa's comments about 'duos' in this episode, ...</td>\n",
       "      <td>1</td>\n",
       "    </tr>\n",
       "  </tbody>\n",
       "</table>\n",
       "</div>"
      ],
      "text/plain": [
       "                                                text sentiment\n",
       "0  Pizza fight suggestions wrong, #CPFC wonderkid...         1\n",
       "1  Meyer on fire, Clyne trains with Palace &amp; ...         1\n",
       "2  While I know this is a football account, I wan...         1\n",
       "3  @Carl_Unofficial why has it gone so dead on th...         1\n",
       "4  Musa's comments about 'duos' in this episode, ...         1"
      ]
     },
     "execution_count": 25,
     "metadata": {},
     "output_type": "execute_result"
    }
   ],
   "source": [
    "test_under.reset_index(drop = True, inplace = True)\n",
    "test_under.head()"
   ]
  },
  {
   "cell_type": "markdown",
   "metadata": {},
   "source": [
    "##### Now we are trying to clean the text for vectorization and training the model. We'll try to remove stuff like hashtags, mentions, any type of url, and also the words present in the words_remove list created at the start that contains team names and other unnecessary terms"
   ]
  },
  {
   "cell_type": "code",
   "execution_count": 26,
   "metadata": {},
   "outputs": [],
   "source": [
    "corpus = []\n",
    "for i in range(0,74187):\n",
    "    tweet = re.sub(r\"http\\S+\" , \" \", test_under['text'][i])\n",
    "    tweet = tweet.replace('#', '')\n",
    "    tweet = re.sub(r'@[A-Za-z0-9]+', ' ', tweet)\n",
    "    tweet = re.sub('[^a-zA-Z]', ' ', tweet)\n",
    "    tweet = tweet.lower()\n",
    "    tweet = tweet.split()\n",
    "    temp = tweet\n",
    "    for stuff in list(temp):\n",
    "        if stuff in words_remove:\n",
    "            tweet.remove(stuff)\n",
    "        \n",
    "    ps = PorterStemmer()\n",
    "    all_stopwords = stopwords.words('english')\n",
    "    all_stopwords.remove('not')\n",
    "    tweet = [ps.stem(word) for word in tweet if word not in set(all_stopwords)]\n",
    "    tweet = ' '.join(tweet)\n",
    "    corpus.append(tweet)"
   ]
  },
  {
   "cell_type": "code",
   "execution_count": 27,
   "metadata": {},
   "outputs": [
    {
     "name": "stdout",
     "output_type": "stream",
     "text": [
      "['pizza fight suggest wrong wonderkid say interview nation media epl', 'meyer fire clyne train amp batshuayi celebr fail cctv', 'know footbal account want state ever blm sayhernam louisvil not announc today alway fight mistreat', 'unoffici gone dead transfer front worri', 'musa comment duo episod whatev reason remind question reunion video jame mccarthi jame mcarthur former sign crystal', 'know fact take knee help one young boy understand racism around world reason alon good job continu', 'jami carragh tell avfc midfield jack grealish amp winger wilfri zaha not good enough', 'bad day thing get bore look minut burn watch video via', 'sean dych caus controversi thought premier leagu bailout lower leagu club avfc bhafc efc ffc lufc nufc sufc twitterblad saintsfc coy whufc coyi wwfc wolv wba', 'rememb racist attack ian wright teen question charg']\n"
     ]
    }
   ],
   "source": [
    "print(corpus[0:10])"
   ]
  },
  {
   "cell_type": "markdown",
   "metadata": {},
   "source": [
    "### Creating the Bag of words model"
   ]
  },
  {
   "cell_type": "code",
   "execution_count": 28,
   "metadata": {},
   "outputs": [],
   "source": [
    "from sklearn.feature_extraction.text import CountVectorizer\n",
    "cv = CountVectorizer(max_features = 2000, decode_error = 'replace')\n",
    "x = cv.fit_transform(corpus).toarray()\n",
    "y = test_under.iloc[:,-1].values"
   ]
  },
  {
   "cell_type": "markdown",
   "metadata": {},
   "source": [
    "### Splitting into training and test set"
   ]
  },
  {
   "cell_type": "code",
   "execution_count": 29,
   "metadata": {},
   "outputs": [],
   "source": [
    "from sklearn.model_selection import train_test_split\n",
    "x_train, x_test, y_train, y_test = train_test_split(x, y, test_size = 0.2, random_state = 0)"
   ]
  },
  {
   "cell_type": "markdown",
   "metadata": {},
   "source": [
    "### Training the model "
   ]
  },
  {
   "cell_type": "markdown",
   "metadata": {},
   "source": [
    "##### I tested various models and Logistic regression model gave me the best results. Since we are predicting more tha two classes i.e positive/neutral/negative we'll use the one vs rest approach. The max_iter variable has been set to 200 as the default 100 iterations were not enough for the algorithm to converge."
   ]
  },
  {
   "cell_type": "code",
   "execution_count": 30,
   "metadata": {},
   "outputs": [
    {
     "data": {
      "text/plain": [
       "LogisticRegression(max_iter=200, multi_class='ovr', solver='liblinear')"
      ]
     },
     "execution_count": 30,
     "metadata": {},
     "output_type": "execute_result"
    }
   ],
   "source": [
    "from sklearn.linear_model import LogisticRegression\n",
    "classifier = LogisticRegression(multi_class = 'ovr', solver = 'liblinear', max_iter = 200)\n",
    "classifier.fit(x_train, y_train)"
   ]
  },
  {
   "cell_type": "markdown",
   "metadata": {},
   "source": [
    "### Predicting the test set results"
   ]
  },
  {
   "cell_type": "code",
   "execution_count": 31,
   "metadata": {},
   "outputs": [],
   "source": [
    "y_pred = classifier.predict(x_test)"
   ]
  },
  {
   "cell_type": "code",
   "execution_count": 32,
   "metadata": {},
   "outputs": [
    {
     "name": "stdout",
     "output_type": "stream",
     "text": [
      "[[3911  573  251]\n",
      " [ 626 3873  790]\n",
      " [ 282  529 4003]]\n"
     ]
    },
    {
     "data": {
      "text/plain": [
       "0.7943792964011323"
      ]
     },
     "execution_count": 32,
     "metadata": {},
     "output_type": "execute_result"
    }
   ],
   "source": [
    "from sklearn.metrics import confusion_matrix, accuracy_score\n",
    "cm = confusion_matrix(y_pred, y_test)\n",
    "print(cm)\n",
    "accuracy_score(y_pred, y_test)"
   ]
  },
  {
   "cell_type": "markdown",
   "metadata": {},
   "source": [
    "### K-Fold Cross Validation "
   ]
  },
  {
   "cell_type": "code",
   "execution_count": 33,
   "metadata": {},
   "outputs": [
    {
     "name": "stdout",
     "output_type": "stream",
     "text": [
      "accuracy = 79.12%\n"
     ]
    }
   ],
   "source": [
    "from sklearn.model_selection import cross_val_score\n",
    "accuracies = cross_val_score(estimator = classifier, X = x_train, y = y_train, cv =5)\n",
    "print(\"accuracy = {:.2f}%\".format(accuracies.mean()*100))"
   ]
  },
  {
   "cell_type": "code",
   "execution_count": 34,
   "metadata": {},
   "outputs": [
    {
     "data": {
      "text/plain": [
       "0.7950058641096598"
      ]
     },
     "execution_count": 34,
     "metadata": {},
     "output_type": "execute_result"
    }
   ],
   "source": [
    "from sklearn.metrics import f1_score\n",
    "f1_score(y_test, y_pred, average = 'weighted')"
   ]
  },
  {
   "cell_type": "markdown",
   "metadata": {},
   "source": [
    "Feels like a decent score "
   ]
  },
  {
   "cell_type": "markdown",
   "metadata": {},
   "source": [
    "### Making an individual prediction "
   ]
  },
  {
   "cell_type": "markdown",
   "metadata": {},
   "source": [
    "To make an individual prediction we'll have to preprocess the single tweet just like we did on training set  "
   ]
  },
  {
   "cell_type": "code",
   "execution_count": 36,
   "metadata": {},
   "outputs": [],
   "source": [
    "new_corpus = []\n",
    "#this is a random text just for testing out the model on individual predictions\n",
    "test_tweet = '''manchester city sucks #mufc #united @bruno @harry http://anbvdajvh'''\n",
    "test_tweet = test_tweet.replace('#','')\n",
    "test_tweet = re.sub(r\"http\\S+\" , \" \", test_tweet)\n",
    "test_tweet = re.sub(r'@[A-Za-z0-9]+', ' ', test_tweet)\n",
    "test_tweet = re.sub('[^a-zA-Z]', ' ', test_tweet)\n",
    "test_tweet = test_tweet.lower()\n",
    "test_tweet = test_tweet.split()\n",
    "temp_tweet = test_tweet\n",
    "for w in list(temp_tweet):\n",
    "    if w in words_remove:\n",
    "        test_tweet.remove(w)        \n",
    "ps = PorterStemmer()\n",
    "all_stopwords = stopwords.words('english')\n",
    "all_stopwords.remove('not')\n",
    "test_tweet = [ps.stem(word) for word in test_tweet if word not in set(all_stopwords)]\n",
    "test_tweet = ' '.join(test_tweet)\n",
    "new_corpus.append(test_tweet)"
   ]
  },
  {
   "cell_type": "code",
   "execution_count": 37,
   "metadata": {},
   "outputs": [
    {
     "name": "stdout",
     "output_type": "stream",
     "text": [
      "['suck']\n"
     ]
    }
   ],
   "source": [
    "print(new_corpus)"
   ]
  },
  {
   "cell_type": "code",
   "execution_count": 53,
   "metadata": {},
   "outputs": [
    {
     "name": "stdout",
     "output_type": "stream",
     "text": [
      "['1']\n",
      "negative\n"
     ]
    }
   ],
   "source": [
    "new_x = cv.transform(new_corpus).toarray()\n",
    "sentiment = classifier.predict(new_x)\n",
    "print(sentiment)\n",
    "if sentiment == '1':\n",
    "    print(\"negative\")\n",
    "elif sentiment == \"2\":\n",
    "    print(\"neutral\")\n",
    "else:\n",
    "    print(\"positive\")"
   ]
  },
  {
   "cell_type": "markdown",
   "metadata": {},
   "source": [
    "We used transform instead of fit_transform above as we want the new tweet to be transformed with the count vectorizer that was created according to the training data"
   ]
  },
  {
   "cell_type": "markdown",
   "metadata": {},
   "source": [
    "### Saving the model for future use"
   ]
  },
  {
   "cell_type": "markdown",
   "metadata": {},
   "source": [
    "Since I want to use this model in my streamlit web app I am going to save this model using the pickle library "
   ]
  },
  {
   "cell_type": "code",
   "execution_count": 40,
   "metadata": {},
   "outputs": [],
   "source": [
    "import pickle"
   ]
  },
  {
   "cell_type": "code",
   "execution_count": 40,
   "metadata": {},
   "outputs": [],
   "source": [
    "filename = 'model.sav'\n",
    "vectorizer = 'vecorizer.pkl'\n",
    "pickle.dump(classifier, open(filename, 'wb'))\n",
    "with open(vectorizer, 'wb') as fw:\n",
    "     pickle.dump(cv.vocabulary_, fw)"
   ]
  },
  {
   "cell_type": "markdown",
   "metadata": {},
   "source": [
    "we have now saved the model and also the vocabulary created by the count vectorizer for future text preprocessing and predictions"
   ]
  },
  {
   "cell_type": "code",
   "execution_count": null,
   "metadata": {},
   "outputs": [],
   "source": []
  }
 ],
 "metadata": {
  "kernelspec": {
   "display_name": "Python 3",
   "language": "python",
   "name": "python3"
  },
  "language_info": {
   "codemirror_mode": {
    "name": "ipython",
    "version": 3
   },
   "file_extension": ".py",
   "mimetype": "text/x-python",
   "name": "python",
   "nbconvert_exporter": "python",
   "pygments_lexer": "ipython3",
   "version": "3.7.4"
  }
 },
 "nbformat": 4,
 "nbformat_minor": 4
}
